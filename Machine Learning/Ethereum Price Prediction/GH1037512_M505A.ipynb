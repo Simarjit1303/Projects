{
 "cells": [
  {
   "cell_type": "markdown",
   "metadata": {
    "id": "85kY5Gc_4Lou"
   },
   "source": [
    "## 1. Introduction\n",
    "\n",
    "**Name:** Simarjit Singh GH1037512\n",
    "\n",
    "**Course:** M505A Intro to Machine Learning \n",
    "\n",
    "**Title:** Creating ML pipeline to predict Ethereum Price \n",
    "\n",
    "\n",
    "**Business Problem:**\n",
    "\n",
    "Ethereum's price prediction is a crucial task for investors, traders, and financial analysts. Predicting crypto prices accurately can help in making informed decisions about buying, selling, or holding stocks. This project aims to develop a machine-learning model that can predict the closing price of Ethereum based on historical crypto data.\n",
    "\n",
    "**Why is This Important?**\n",
    "\n",
    "1. **Informed Investment Decisions:** Investors can use these predictions to determine when to enter or exit the market.\n",
    "\n",
    "2. **Risk Management:** Accurate forecasts can help in minimizing losses by identifying trends before they happen.\n",
    "\n",
    "3. **Market Strategy:** Stock traders can optimise their buying and selling strategies based on predictions.\n",
    "\n",
    "By leveraging historical crypto price data, we aim to build a predictive model that forecasts the closing price of a crypto based on previous trading data."
   ]
  },
  {
   "cell_type": "markdown",
   "metadata": {},
   "source": [
    "### Dataset Overview\n",
    "\n",
    "The dataset consists of historical stock prices with the following columns:\n",
    "\n",
    "* **Date:** The date on which the stock data was recorded.\n",
    "\n",
    "* **Ticker:** The stock symbol for the company.\n",
    "\n",
    "* **Open:** Opening price of the stock.\n",
    "\n",
    "* **High:** The highest price reached.\n",
    "\n",
    "* **Low:** The lowest price reached.\n",
    "\n",
    "* **Close:** The closing price of the stock (target variable)."
   ]
  },
  {
   "cell_type": "markdown",
   "metadata": {},
   "source": [
    "### Importing Libraries"
   ]
  },
  {
   "cell_type": "code",
   "execution_count": 1,
   "metadata": {
    "id": "_AOziOu46iKa"
   },
   "outputs": [],
   "source": [
    "import matplotlib.pyplot as plt\n",
    "import seaborn as sns\n",
    "import pandas as pd\n",
    "import numpy as np\n",
    "from sklearn.model_selection import train_test_split, GridSearchCV, cross_val_score, learning_curve\n",
    "from sklearn.preprocessing import MinMaxScaler\n",
    "from sklearn.metrics import mean_absolute_error, mean_squared_error,r2_score\n",
    "from sklearn.linear_model import LinearRegression,Lasso,Ridge\n",
    "from sklearn.svm import SVR\n",
    "from sklearn.tree import DecisionTreeRegressor\n",
    "from sklearn.ensemble import RandomForestRegressor,GradientBoostingRegressor\n",
    "from xgboost import XGBRegressor\n",
    "import warnings\n",
    "warnings.filterwarnings(\"ignore\")"
   ]
  },
  {
   "cell_type": "markdown",
   "metadata": {},
   "source": [
    "### Reading the Dataset"
   ]
  },
  {
   "cell_type": "code",
   "execution_count": 2,
   "metadata": {
    "colab": {
     "base_uri": "https://localhost:8080/",
     "height": 206
    },
    "id": "Me7CicGn7iMn",
    "outputId": "0a2a1686-99a9-4d14-cc67-993cb8bf0e7e"
   },
   "outputs": [
    {
     "data": {
      "text/html": [
       "<div>\n",
       "<style scoped>\n",
       "    .dataframe tbody tr th:only-of-type {\n",
       "        vertical-align: middle;\n",
       "    }\n",
       "\n",
       "    .dataframe tbody tr th {\n",
       "        vertical-align: top;\n",
       "    }\n",
       "\n",
       "    .dataframe thead th {\n",
       "        text-align: right;\n",
       "    }\n",
       "</style>\n",
       "<table border=\"1\" class=\"dataframe\">\n",
       "  <thead>\n",
       "    <tr style=\"text-align: right;\">\n",
       "      <th></th>\n",
       "      <th>ticker</th>\n",
       "      <th>date</th>\n",
       "      <th>open</th>\n",
       "      <th>high</th>\n",
       "      <th>low</th>\n",
       "      <th>close</th>\n",
       "    </tr>\n",
       "  </thead>\n",
       "  <tbody>\n",
       "    <tr>\n",
       "      <th>0</th>\n",
       "      <td>ETH</td>\n",
       "      <td>2015-08-07</td>\n",
       "      <td>3.0</td>\n",
       "      <td>3.0</td>\n",
       "      <td>3.0000</td>\n",
       "      <td>3.00</td>\n",
       "    </tr>\n",
       "    <tr>\n",
       "      <th>1</th>\n",
       "      <td>ETH</td>\n",
       "      <td>2015-08-08</td>\n",
       "      <td>3.0</td>\n",
       "      <td>3.0</td>\n",
       "      <td>1.2000</td>\n",
       "      <td>1.20</td>\n",
       "    </tr>\n",
       "    <tr>\n",
       "      <th>2</th>\n",
       "      <td>ETH</td>\n",
       "      <td>2015-08-09</td>\n",
       "      <td>1.2</td>\n",
       "      <td>1.2</td>\n",
       "      <td>1.2000</td>\n",
       "      <td>1.20</td>\n",
       "    </tr>\n",
       "    <tr>\n",
       "      <th>3</th>\n",
       "      <td>ETH</td>\n",
       "      <td>2015-08-10</td>\n",
       "      <td>1.2</td>\n",
       "      <td>1.2</td>\n",
       "      <td>1.2000</td>\n",
       "      <td>1.20</td>\n",
       "    </tr>\n",
       "    <tr>\n",
       "      <th>4</th>\n",
       "      <td>ETH</td>\n",
       "      <td>2015-08-11</td>\n",
       "      <td>1.2</td>\n",
       "      <td>1.2</td>\n",
       "      <td>0.6504</td>\n",
       "      <td>0.99</td>\n",
       "    </tr>\n",
       "  </tbody>\n",
       "</table>\n",
       "</div>"
      ],
      "text/plain": [
       "  ticker        date  open  high     low  close\n",
       "0    ETH  2015-08-07   3.0   3.0  3.0000   3.00\n",
       "1    ETH  2015-08-08   3.0   3.0  1.2000   1.20\n",
       "2    ETH  2015-08-09   1.2   1.2  1.2000   1.20\n",
       "3    ETH  2015-08-10   1.2   1.2  1.2000   1.20\n",
       "4    ETH  2015-08-11   1.2   1.2  0.6504   0.99"
      ]
     },
     "execution_count": 2,
     "metadata": {},
     "output_type": "execute_result"
    }
   ],
   "source": [
    "df = pd.read_csv('https://raw.githubusercontent.com/Simarjit1303/Projects/refs/heads/main/Machine%20Learning/Ethereum%20Price%20Prediction/ETH.csv')\n",
    "df.head()"
   ]
  },
  {
   "cell_type": "markdown",
   "metadata": {
    "id": "pmCQOl0c8fBn"
   },
   "source": [
    "### Splitting the data"
   ]
  },
  {
   "cell_type": "code",
   "execution_count": 3,
   "metadata": {
    "colab": {
     "base_uri": "https://localhost:8080/"
    },
    "id": "Xge3jtGE8eVH",
    "outputId": "7dfed0f4-2cd2-4ed5-9208-1cdba35b9bc6"
   },
   "outputs": [
    {
     "data": {
      "text/plain": [
       "((2771, 6), (693, 6))"
      ]
     },
     "execution_count": 3,
     "metadata": {},
     "output_type": "execute_result"
    }
   ],
   "source": [
    "df_train, df_test = train_test_split(df, test_size=0.2, random_state=42)\n",
    "df_train.shape, df_test.shape"
   ]
  },
  {
   "cell_type": "markdown",
   "metadata": {
    "id": "2ClFUAZsFTIA"
   },
   "source": [
    "## 2. Exploratory Data Analysis(EDA)"
   ]
  },
  {
   "cell_type": "code",
   "execution_count": 4,
   "metadata": {
    "colab": {
     "base_uri": "https://localhost:8080/",
     "height": 690
    },
    "id": "ZCJb1ID6Lyln",
    "outputId": "e75a1b14-1b80-43c1-ee6f-bad13318f015"
   },
   "outputs": [
    {
     "name": "stdout",
     "output_type": "stream",
     "text": [
      "Missing values:\n",
      "ticker    0\n",
      "date      0\n",
      "open      0\n",
      "high      0\n",
      "low       0\n",
      "close     0\n",
      "dtype: int64\n"
     ]
    },
    {
     "data": {
      "image/png": "[encoded data removed]",
      "text/plain": [
       "<Figure size 1000x600 with 1 Axes>"
      ]
     },
     "metadata": {},
     "output_type": "display_data"
    }
   ],
   "source": [
    "print(f\"Missing values:\\n{df.isnull().sum()}\")  \n",
    "df_train = df_train.drop(['ticker','date'],axis=1) \n",
    "df_train.drop_duplicates(inplace=True)   \n",
    "df_train.reset_index(drop=True,inplace=True)\n",
    "\n",
    "plt.figure(figsize=(10,6))\n",
    "sns.boxplot(data=df_train[['close', 'open', 'high', 'low']])\n",
    "plt.title('Outlier Detection for Numeric Columns')\n",
    "plt.show()"
   ]
  },
  {
   "cell_type": "markdown",
   "metadata": {},
   "source": [
    "* **Handling Missing Values:** Checked for null values and dropped unnecessary columns ('ticker' and 'date').\n",
    "* **Figure:** Using the Boxplot I checked for outliers in our dataset and as the figure shows there are some outliers in my data which will be solved later."
   ]
  },
  {
   "cell_type": "code",
   "execution_count": 5,
   "metadata": {
    "colab": {
     "base_uri": "https://localhost:8080/",
     "height": 545
    },
    "id": "yDkTslTzLpu1",
    "outputId": "99ae4db2-6064-4efd-a75c-42f8cb51c361"
   },
   "outputs": [
    {
     "name": "stdout",
     "output_type": "stream",
     "text": [
      "(2761, 4)\n"
     ]
    },
    {
     "data": {
      "image/png": "[encoded data removed]",
      "text/plain": [
       "<Figure size 1000x600 with 1 Axes>"
      ]
     },
     "metadata": {},
     "output_type": "display_data"
    }
   ],
   "source": [
    "Q1 = df_train[['close','open', 'high', 'low']].quantile(0.25)\n",
    "Q3 = df_train[['close','open', 'high', 'low']].quantile(0.75)\n",
    "IQR = Q3 - Q1\n",
    "lower_bound = Q1 - 1.5 * IQR\n",
    "upper_bound = Q3 + 1.5 * IQR\n",
    "\n",
    "df_train = df_train[(df_train[['close','open', 'high', 'low']] >= lower_bound).all(axis = 1) & (df_train[['close','open', 'high', 'low']] <= upper_bound).all(axis = 1)]\n",
    "print(df_train.shape)\n",
    "\n",
    "plt.figure(figsize=(10,6))\n",
    "sns.boxplot(data=df_train[['close', 'open', 'high', 'low']])\n",
    "plt.title('Outlier Detection for Numeric Columns')\n",
    "plt.show()"
   ]
  },
  {
   "cell_type": "markdown",
   "metadata": {},
   "source": [
    "* **Outlier Removal using IQR (Interquartile Range) Method:** Removed extreme values in open, high, low, and close columns to ensure data consistency."
   ]
  },
  {
   "cell_type": "code",
   "execution_count": 6,
   "metadata": {
    "colab": {
     "base_uri": "https://localhost:8080/",
     "height": 468
    },
    "id": "H6fQlTAXFjn-",
    "outputId": "4e0e57b1-476f-4e2e-9476-1fa39047a60a"
   },
   "outputs": [
    {
     "data": {
      "image/png": "[encoded data removed]",
      "text/plain": [
       "<Figure size 1000x500 with 2 Axes>"
      ]
     },
     "metadata": {},
     "output_type": "display_data"
    }
   ],
   "source": [
    "corr_matrix = df_train.corr()\n",
    "plt.figure(figsize=(10, 5))\n",
    "sns.heatmap(corr_matrix, annot=True, cmap='coolwarm', fmt='.2f', linewidths=0.5)\n",
    "plt.title('Correlation Matrix')\n",
    "plt.show()"
   ]
  },
  {
   "cell_type": "markdown",
   "metadata": {},
   "source": [
    "* **Correlation Matrix:** A heatmap revealed strong correlations between open, high, low, and close prices, justifying the use of past prices as features."
   ]
  },
  {
   "cell_type": "code",
   "execution_count": 7,
   "metadata": {
    "colab": {
     "base_uri": "https://localhost:8080/",
     "height": 487
    },
    "id": "raGbCqIgGn8K",
    "outputId": "d3736331-09de-4eba-977d-3fad6dbbee41"
   },
   "outputs": [
    {
     "data": {
      "image/png": "[encoded data removed]",
      "text/plain": [
       "<Figure size 800x500 with 1 Axes>"
      ]
     },
     "metadata": {},
     "output_type": "display_data"
    }
   ],
   "source": [
    "plt.figure(figsize=(8, 5))\n",
    "sns.histplot(df_train['close'], kde=True, bins=20)\n",
    "plt.title('Distribution of Ethereum Closing Price')\n",
    "plt.xlabel('Ethereum Closing Price')\n",
    "plt.ylabel('Frequency')\n",
    "plt.show()"
   ]
  },
  {
   "cell_type": "markdown",
   "metadata": {},
   "source": [
    "* **Price Distribution:** The distribution of closing prices was visualized using a histogram, showing a slightly skewed distribution."
   ]
  },
  {
   "cell_type": "markdown",
   "metadata": {
    "id": "yIbBuiQxHY_0"
   },
   "source": [
    "## 3. Data Preprocessing"
   ]
  },
  {
   "cell_type": "code",
   "execution_count": 8,
   "metadata": {
    "id": "F0OH_ts2HbVb"
   },
   "outputs": [],
   "source": [
    "Q1 = df_test[['close','open', 'high', 'low']].quantile(0.25)\n",
    "Q3 = df_test[['close','open', 'high', 'low']].quantile(0.75)\n",
    "IQR = Q3 - Q1\n",
    "lower_bound = Q1 - 1.5 * IQR\n",
    "upper_bound = Q3 + 1.5 * IQR\n",
    "df_test = df_test[(df_test[['close','open', 'high', 'low']] >= lower_bound).all(axis = 1) & (df_test[['close','open', 'high', 'low']] <= upper_bound).all(axis = 1)]\n",
    "\n",
    "#Set 1: Using past closing prices (shifting by 1, 2, 3 days)\n",
    "df_train['close_shift_1'] = df_train['close'].shift(1)\n",
    "df_test['close_shift_1'] = df_test['close'].shift(1)\n",
    "df_train['close_shift_2'] = df_train['close'].shift(2)\n",
    "df_test['close_shift_2'] = df_test['close'].shift(2)\n",
    "df_train['close_shift_3'] = df_train['close'].shift(3)\n",
    "df_test['close_shift_3'] = df_test['close'].shift(3)\n",
    "\n",
    "# Set 2: Percentage change in closing prices (returns)\n",
    "df_train['pct_change_1'] = df_train['close'].pct_change(1)\n",
    "df_test['pct_change_1'] = df_test['close'].pct_change(1)\n",
    "df_train['pct_change_2'] = df_train['close'].pct_change(2)\n",
    "df_test['pct_change_2'] = df_test['close'].pct_change(2)\n",
    "df_train['pct_change_3'] = df_train['close'].pct_change(3)\n",
    "df_test['pct_change_3'] = df_test['close'].pct_change(3)\n",
    "\n",
    "# Set 3: Moving averages (window size of 7)\n",
    "df_train['MA_7'] = df_train['close'].rolling(window=7).mean()\n",
    "df_test['MA_7'] = df_test['close'].rolling(window=7).mean()\n",
    "\n",
    "# Set 4: Bollinger Bands (20 days window)\n",
    "df_train['bollinger_upper'] = df_train['close'].rolling(window=20).mean() + (df_train['close'].rolling(window=20).std() * 2)\n",
    "df_test['bollinger_upper'] = df_test['close'].rolling(window=20).mean() + (df_test['close'].rolling(window=20).std() * 2)\n",
    "df_train['bollinger_lower'] = df_train['close'].rolling(window=20).mean() - (df_train['close'].rolling(window=20).std() * 2)\n",
    "df_test['bollinger_lower'] = df_test['close'].rolling(window=20).mean() - (df_test['close'].rolling(window=20).std() * 2)\n",
    "\n",
    "# Drop null values (due to shifting and rolling)\n",
    "df_train.dropna(inplace=True)\n",
    "df_test.dropna(inplace=True)\n",
    "df_test.drop_duplicates(inplace=True)   \n",
    "df_test.reset_index(drop=True,inplace=True)"
   ]
  },
  {
   "cell_type": "code",
   "execution_count": 9,
   "metadata": {
    "colab": {
     "base_uri": "https://localhost:8080/"
    },
    "id": "LyR__mqzH_jb",
    "outputId": "e8f6772c-457d-4c93-817d-ae0f07317cd4"
   },
   "outputs": [
    {
     "name": "stdout",
     "output_type": "stream",
     "text": [
      "(2742, 9) (2742,)\n",
      "(672, 9) (672,)\n"
     ]
    }
   ],
   "source": [
    "X_train = df_train.drop(['open', 'high', 'low', 'close'],axis=1)\n",
    "y_train = df_train['close']\n",
    "X_test = df_test.drop(['open', 'high', 'low', 'close','ticker','date'],axis=1)\n",
    "y_test = df_test['close']\n",
    "\n",
    "print(X_train.shape, y_train.shape)\n",
    "print(X_test.shape, y_test.shape)"
   ]
  },
  {
   "cell_type": "markdown",
   "metadata": {},
   "source": [
    "* **Shifted Closing Prices:** Added past closing prices as new features to capture trends.\n",
    "\n",
    "* **Percentage Changes:** Calculated percentage change over different time intervals.\n",
    "\n",
    "* **Moving Averages:** Included a 7-day moving average to smooth out price fluctuations.\n",
    "\n",
    "* **Bollinger Bands:** Used a 20-day rolling window to measure stock volatility.\n",
    "\n",
    "* **Data Preprocessing:** drooping and declaring data columns as needed."
   ]
  },
  {
   "cell_type": "markdown",
   "metadata": {
    "id": "CbsJgHk1ArNH"
   },
   "source": [
    "## 4. Feature Engineering"
   ]
  },
  {
   "cell_type": "code",
   "execution_count": 10,
   "metadata": {
    "id": "xX7zmSvpAtPj"
   },
   "outputs": [],
   "source": [
    "scaler = MinMaxScaler()\n",
    "X_train_scaled = scaler.fit_transform(X_train)\n",
    "X_test_scaled = scaler.transform(X_test)"
   ]
  },
  {
   "cell_type": "markdown",
   "metadata": {
    "id": "5IYrQr4T6YHx"
   },
   "source": [
    "## 5. Model Training, Testing and Evaluation"
   ]
  },
  {
   "cell_type": "code",
   "execution_count": 11,
   "metadata": {
    "id": "nfAb6L6q_khF"
   },
   "outputs": [
    {
     "name": "stdout",
     "output_type": "stream",
     "text": [
      "                    Model Name  R² Score\n",
      "0            Linear Regression  0.313157\n",
      "1     Support Vector Regressor -0.210290\n",
      "2      Decision Tree Regressor  0.821350\n",
      "3      Random Forest Regressor  0.947735\n",
      "4            XGBoost Regressor  0.968714\n",
      "5  Gradient Boosting Regressor  0.941721\n",
      "6             Lasso Regression  0.312302\n",
      "7             Ridge Regression  0.313100\n"
     ]
    }
   ],
   "source": [
    "models = {\n",
    "    \"Linear Regression\": LinearRegression(),\n",
    "    \"Support Vector Regressor\": SVR(),\n",
    "    \"Decision Tree Regressor\": DecisionTreeRegressor(),\n",
    "    \"Random Forest Regressor\": RandomForestRegressor(),\n",
    "    \"XGBoost Regressor\": XGBRegressor(),\n",
    "    \"Gradient Boosting Regressor\": GradientBoostingRegressor(),\n",
    "    \"Lasso Regression\": Lasso(),\n",
    "    \"Ridge Regression\": Ridge()\n",
    "}\n",
    "\n",
    "predictions = {name: model.fit(X_train_scaled, y_train).predict(X_test_scaled) for name, model in models.items()}\n",
    "\n",
    "r2_scores = {name: r2_score(y_test, pred) for name, pred in predictions.items()}\n",
    "\n",
    "r2_results_df = pd.DataFrame(list(r2_scores.items()), columns=[\"Model Name\", \"R² Score\"])\n",
    "print(r2_results_df)\n"
   ]
  },
  {
   "cell_type": "markdown",
   "metadata": {},
   "source": [
    "**Why Regression?**\n",
    "\n",
    "Since the goal is to predict a continuous numerical value (closing stock price), regression models are the best fit. Several models were tested, including:\n",
    "\n",
    "1. Linear Regression\n",
    "\n",
    "2. Support Vector Regressor (SVR)\n",
    "\n",
    "3. Decision Tree Regressor\n",
    "\n",
    "4. Random Forest Regressor\n",
    "\n",
    "5. Gradient Boosting Regressor\n",
    "\n",
    "6. XGBoost Regressor\n",
    "\n",
    "**After comparing their performance using R-squared (R²), the XGBoost Regressor was chosen as the final model due to its superior predictive accuracy and ability to handle complex patterns.**"
   ]
  },
  {
   "cell_type": "markdown",
   "metadata": {
    "id": "ZlSu2MYH93Ok"
   },
   "source": [
    "## 6. Hyperparameter Tuning"
   ]
  },
  {
   "cell_type": "code",
   "execution_count": 12,
   "metadata": {
    "colab": {
     "base_uri": "https://localhost:8080/"
    },
    "id": "TRStLryw921-",
    "outputId": "ac0db526-b11f-48e6-df4c-0676ebaac8af"
   },
   "outputs": [
    {
     "name": "stdout",
     "output_type": "stream",
     "text": [
      "Fitting 3 folds for each of 6561 candidates, totalling 19683 fits\n",
      "Best Parameters: {'colsample_bytree': 1.0, 'gamma': 0, 'learning_rate': 0.1, 'max_depth': 4, 'n_estimators': 500, 'reg_alpha': 0.1, 'reg_lambda': 1, 'subsample': 0.8}\n"
     ]
    }
   ],
   "source": [
    "xgb = XGBRegressor(objective='reg:squarederror', random_state=42)\n",
    "\n",
    "param_grid = {\n",
    "    'n_estimators': [100, 300, 500],\n",
    "    'learning_rate': [0.01, 0.05, 0.1],\n",
    "    'max_depth': [4, 6, 8],\n",
    "    'subsample': [0.6, 0.8, 1.0],\n",
    "    'colsample_bytree': [0.6, 0.8, 1.0],\n",
    "    'gamma': [0, 0.1, 0.3],\n",
    "    'reg_alpha': [0, 0.01, 0.1],\n",
    "    'reg_lambda': [1, 2, 3]\n",
    "}\n",
    "\n",
    "grid_search = GridSearchCV(estimator=xgb, param_grid=param_grid, scoring='neg_mean_squared_error', cv=3, verbose=1, n_jobs=-1)\n",
    "grid_search.fit(X_train_scaled, y_train)\n",
    "\n",
    "print(\"Best Parameters:\", grid_search.best_params_)\n",
    "best_xgb = grid_search.best_estimator_"
   ]
  },
  {
   "cell_type": "markdown",
   "metadata": {},
   "source": [
    "## 7. XGBoost Regression Evaluation Before and After Hyperparameter Tuning"
   ]
  },
  {
   "cell_type": "code",
   "execution_count": 13,
   "metadata": {},
   "outputs": [
    {
     "name": "stdout",
     "output_type": "stream",
     "text": [
      "\n",
      "XGBoost R² Score Comparison:\n",
      "Before Tuning:       0.9687\n",
      "After Tuning:        0.9802\n"
     ]
    }
   ],
   "source": [
    "r2_score_before = r2_scores[\"XGBoost Regressor\"]\n",
    "r2_score_after = r2_score(y_test, best_xgb.predict(X_test_scaled))\n",
    "\n",
    "print(\"\\nXGBoost R² Score Comparison:\")\n",
    "print(f\"{'Before Tuning:':<20} {r2_score_before:.4f}\")\n",
    "print(f\"{'After Tuning:':<20} {r2_score_after:.4f}\")\n"
   ]
  },
  {
   "cell_type": "markdown",
   "metadata": {},
   "source": [
    "## 8. Business Question\n",
    "Q: What will the Ethereum's closing price for today, given that the previous day's closing price is known?\n",
    "\n",
    "This question is critical for investors and traders who want to forecast the stock price trend for the next day. By using historical price data, this model helps in making data-driven investment decisions."
   ]
  },
  {
   "cell_type": "code",
   "execution_count": 14,
   "metadata": {},
   "outputs": [
    {
     "name": "stdout",
     "output_type": "stream",
     "text": [
      "Predicted closing price for today: 2291.34\n"
     ]
    }
   ],
   "source": [
    "def predict_closing_price(previous_day_data):\n",
    "    return best_xgb.predict(previous_day_data)\n",
    "    \n",
    "\n",
    "latest_data = X_test_scaled[-1].reshape(1, -1)\n",
    "predicted_closing_price = predict_closing_price(latest_data)\n",
    "\n",
    "print(f\"Predicted closing price for today: {predicted_closing_price[0]:.2f}\")"
   ]
  },
  {
   "cell_type": "markdown",
   "metadata": {
    "jp-MarkdownHeadingCollapsed": true
   },
   "source": [
    "## 9. Conclusion\n",
    "\n",
    "This project successfully demonstrated an end-to-end machine learning pipeline for crypto price prediction using the XGBoost Regressor. Hyperparameter tuning significantly improved the model’s predictive accuracy, and the insights gained can be used by investors and traders to make informed financial decisions based on data-driven crypto forecasts."
   ]
  }
 ],
 "metadata": {
  "colab": {
   "provenance": []
  },
  "kernelspec": {
   "display_name": "Python 3 (ipykernel)",
   "language": "python",
   "name": "python3"
  },
  "language_info": {
   "codemirror_mode": {
    "name": "ipython",
    "version": 3
   },
   "file_extension": ".py",
   "mimetype": "text/x-python",
   "name": "python",
   "nbconvert_exporter": "python",
   "pygments_lexer": "ipython3",
   "version": "3.12.7"
  }
 },
 "nbformat": 4,
 "nbformat_minor": 4
}
